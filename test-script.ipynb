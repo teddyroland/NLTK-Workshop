{
 "cells": [
  {
   "cell_type": "code",
   "execution_count": null,
   "metadata": {
    "collapsed": false
   },
   "outputs": [],
   "source": [
    "# Cell 1: Self-Diagnostic\n",
    "\n",
    "import nltk\n",
    "from nltk.corpus import brown\n",
    "import numpy\n",
    "\n",
    "print \"Hello world!\""
   ]
  },
  {
   "cell_type": "code",
   "execution_count": null,
   "metadata": {
    "collapsed": false
   },
   "outputs": [],
   "source": [
    "# Cell 2: NLTK_DATA Installer\n",
    "# If you have already installed NLTK_DATA from the command line, this is unnecessary\n",
    "\n",
    "import nltk\n",
    "\n",
    "nltk.download() # this brings up an interactive menu. Select \"All\" packages"
   ]
  }
 ],
 "metadata": {
  "kernelspec": {
   "display_name": "Python 2",
   "language": "python",
   "name": "python2"
  },
  "language_info": {
   "codemirror_mode": {
    "name": "ipython",
    "version": 2
   },
   "file_extension": ".py",
   "mimetype": "text/x-python",
   "name": "python",
   "nbconvert_exporter": "python",
   "pygments_lexer": "ipython2",
   "version": "2.7.9"
  }
 },
 "nbformat": 4,
 "nbformat_minor": 0
}
